{
 "cells": [
  {
   "cell_type": "code",
   "execution_count": 26,
   "metadata": {},
   "outputs": [
    {
     "data": {
      "text/plain": [
       "device(type='cuda', index=5)"
      ]
     },
     "execution_count": 26,
     "metadata": {},
     "output_type": "execute_result"
    }
   ],
   "source": [
    "import torch\n",
    "pwd = '/home/zjy/project/MetaIM/data'\n",
    "device = torch.device('cuda:5' if torch.cuda.is_available() else 'cpu')\n",
    "device"
   ]
  },
  {
   "cell_type": "code",
   "execution_count": 27,
   "metadata": {},
   "outputs": [],
   "source": [
    "from torch_geometric.datasets import Planetoid\n",
    "\n",
    "cora_dataset = Planetoid(root=pwd+'/cora', name='cora')\n",
    "data = cora_dataset[0]\n",
    "edge_index = data.edge_index"
   ]
  },
  {
   "cell_type": "code",
   "execution_count": 28,
   "metadata": {},
   "outputs": [
    {
     "data": {
      "text/plain": [
       "((2708, 2708), (1000, 2, 2708))"
      ]
     },
     "execution_count": 28,
     "metadata": {},
     "output_type": "execute_result"
    }
   ],
   "source": [
    "import numpy as np\n",
    "individual_infection_path = pwd+'/for_meta/cora_individual_infection_sir_200_sample_500.npy'\n",
    "seeds_infection_path = pwd+'/for_meta/cora_seed_infection_sir_200_sample_500.npy'\n",
    "\n",
    "individual_infection = np.load(individual_infection_path)\n",
    "seeds_infection = np.load(seeds_infection_path)\n",
    "individual_infection.shape,seeds_infection.shape"
   ]
  },
  {
   "cell_type": "code",
   "execution_count": 29,
   "metadata": {},
   "outputs": [
    {
     "data": {
      "text/plain": [
       "tensor(indices=tensor([[   0,    0,    0,  ..., 2707, 2707, 2707],\n",
       "                       [ 633, 1862, 2582,  ...,  598, 1473, 2706]]),\n",
       "       values=tensor([1., 1., 1.,  ..., 1., 1., 1.]),\n",
       "       size=(2708, 2708), nnz=10556, layout=torch.sparse_coo)"
      ]
     },
     "execution_count": 29,
     "metadata": {},
     "output_type": "execute_result"
    }
   ],
   "source": [
    "import torch\n",
    "from torch_geometric.utils import to_scipy_sparse_matrix\n",
    "import scipy.sparse as sp\n",
    "\n",
    "# 转换为 scipy 稀疏矩阵\n",
    "adj = to_scipy_sparse_matrix(edge_index)\n",
    "\n",
    "\n",
    "# def normalize_adj(mx):\n",
    "#     \"\"\"Row-normalize sparse matrix\"\"\"\n",
    "#     rowsum = np.array(mx.sum(1))\n",
    "#     r_inv_sqrt = np.power(rowsum, -0.5).flatten()\n",
    "#     r_inv_sqrt[np.isinf(r_inv_sqrt)] = 0.\n",
    "#     r_mat_inv_sqrt = sp.diags(r_inv_sqrt)\n",
    "#     return mx.dot(r_mat_inv_sqrt).transpose().dot(r_mat_inv_sqrt)\n",
    "\n",
    "\n",
    "\n",
    "# adj = adj + adj.T.multiply(adj.T > adj) - adj.multiply(adj.T > adj)\n",
    "# adj = normalize_adj(adj + sp.eye(adj.shape[0]))\n",
    "adj = torch.Tensor(adj.toarray()).to_sparse()\n",
    "adj\n"
   ]
  },
  {
   "cell_type": "code",
   "execution_count": 30,
   "metadata": {},
   "outputs": [],
   "source": [
    "feat_num = int(seeds_infection[0][0].sum())"
   ]
  },
  {
   "cell_type": "code",
   "execution_count": 31,
   "metadata": {},
   "outputs": [],
   "source": [
    "from torch.utils.data import Dataset, DataLoader, random_split\n",
    "\n",
    "\n",
    "class CustomDataset(Dataset):\n",
    "    def __init__(self, individual_infection,seeds_infection, feat_num):\n",
    "        self.individual_infection = individual_infection\n",
    "        self.seeds_infection = seeds_infection\n",
    "        self.feat_shape = (len(individual_infection), feat_num)\n",
    "\n",
    "    def __len__(self):\n",
    "        return len(self.seeds_infection)\n",
    "\n",
    "    def __getitem__(self, idx):\n",
    "        seeds= np.nonzero(self.seeds_infection[idx][0])[0]\n",
    "        \n",
    "        feature = torch.zeros(self.feat_shape[0],self.feat_shape[1])\n",
    "        for i in range(len(seeds)):\n",
    "            seed_i_infection = torch.tensor(self.individual_infection[seeds[i]])\n",
    "            feature[:, i] = seed_i_infection\n",
    "            \n",
    "        label = self.seeds_infection[idx][1]\n",
    "        \n",
    "        return feature, label\n",
    "\n",
    "dataset = CustomDataset(individual_infection,seeds_infection,feat_num)"
   ]
  },
  {
   "cell_type": "code",
   "execution_count": 32,
   "metadata": {},
   "outputs": [],
   "source": [
    "# 定义划分比例\n",
    "train_ratio = 0.8\n",
    "test_ratio = 0.2\n",
    "\n",
    "# 划分数据集\n",
    "train_dataset, test_dataset = random_split(dataset, [int(len(dataset)*train_ratio), int(len(dataset)*test_ratio)])\n",
    "\n",
    "train_batch_size = 64\n",
    "test_batch_size = 4\n",
    "\n",
    "# 创建数据加载器\n",
    "train_loader = DataLoader(train_dataset, batch_size=train_batch_size, shuffle=True, drop_last=False)\n",
    "test_loader = DataLoader(test_dataset, batch_size=test_batch_size, shuffle=False)"
   ]
  },
  {
   "cell_type": "code",
   "execution_count": 33,
   "metadata": {},
   "outputs": [],
   "source": [
    "import torch\n",
    "import torch.nn as nn\n",
    "import torch.nn.functional as F\n",
    "from torch_geometric.nn import GATConv\n",
    "\n",
    "class GAT(nn.Module):\n",
    "    def __init__(self, in_channels, hidden_channels, out_channels, num_heads):\n",
    "        super(GAT, self).__init__()\n",
    "        self.conv1 = GATConv(in_channels, hidden_channels, heads=num_heads)\n",
    "        self.conv2 = GATConv(hidden_channels * num_heads, out_channels, heads=1)\n",
    "\n",
    "    def forward(self, x, edge_index):\n",
    "        x = F.relu(self.conv1(x, edge_index))\n",
    "        x = F.dropout(x, p=0.2, training=self.training)\n",
    "        x = self.conv2(x, edge_index)\n",
    "        return F.relu(x)"
   ]
  },
  {
   "cell_type": "code",
   "execution_count": 34,
   "metadata": {},
   "outputs": [
    {
     "data": {
      "text/plain": [
       "GAT(\n",
       "  (conv1): GATConv(135, 256, heads=8)\n",
       "  (conv2): GATConv(2048, 1, heads=1)\n",
       ")"
      ]
     },
     "execution_count": 34,
     "metadata": {},
     "output_type": "execute_result"
    }
   ],
   "source": [
    "# from data.model.gat import GAT, SpGAT\n",
    "from torch.optim import Adam, SGD\n",
    "\n",
    "\n",
    "# forward_model = SpGAT(nfeat=feat_num, \n",
    "#                 nhid=64, \n",
    "#                 nclass=1, \n",
    "#                 dropout=0.2, \n",
    "#                 nheads=1, \n",
    "#                 alpha=0.2)\n",
    "forward_model = GAT(feat_num, 256, 1, 8)\n",
    "\n",
    "optimizer = Adam([{'params': forward_model.parameters()}], \n",
    "                 lr=0.001)\n",
    "\n",
    "adj = adj.to(device)\n",
    "forward_model = forward_model.to(device)\n",
    "forward_model.train()"
   ]
  },
  {
   "cell_type": "code",
   "execution_count": 37,
   "metadata": {},
   "outputs": [
    {
     "name": "stdout",
     "output_type": "stream",
     "text": [
      "Epoch: 1 \tTotal: 334.2869 \tMean_train_accuracy: 0.6948\n",
      "\tMean_test_accuracy: 0.6383 \tMean_test_accuracy_sum: 0.3850\n",
      "Epoch: 2 \tTotal: 333.9708 \tMean_train_accuracy: 0.6964\n",
      "\tMean_test_accuracy: 0.6342 \tMean_test_accuracy_sum: 0.3850\n",
      "Epoch: 3 \tTotal: 333.2622 \tMean_train_accuracy: 0.6922\n",
      "\tMean_test_accuracy: 0.6367 \tMean_test_accuracy_sum: 0.3850\n",
      "Epoch: 4 \tTotal: 332.5210 \tMean_train_accuracy: 0.6970\n",
      "\tMean_test_accuracy: 0.6400 \tMean_test_accuracy_sum: 0.3850\n",
      "Epoch: 5 \tTotal: 332.6397 \tMean_train_accuracy: 0.6893\n",
      "\tMean_test_accuracy: 0.6367 \tMean_test_accuracy_sum: 0.3850\n",
      "Epoch: 6 \tTotal: 332.6259 \tMean_train_accuracy: 0.6978\n",
      "\tMean_test_accuracy: 0.6300 \tMean_test_accuracy_sum: 0.3850\n",
      "Epoch: 7 \tTotal: 333.3580 \tMean_train_accuracy: 0.6953\n",
      "\tMean_test_accuracy: 0.6300 \tMean_test_accuracy_sum: 0.3850\n",
      "Epoch: 8 \tTotal: 333.7190 \tMean_train_accuracy: 0.6970\n",
      "\tMean_test_accuracy: 0.6367 \tMean_test_accuracy_sum: 0.3850\n",
      "Epoch: 9 \tTotal: 333.8562 \tMean_train_accuracy: 0.6885\n",
      "\tMean_test_accuracy: 0.6317 \tMean_test_accuracy_sum: 0.3850\n",
      "Epoch: 10 \tTotal: 334.0080 \tMean_train_accuracy: 0.6851\n",
      "\tMean_test_accuracy: 0.6417 \tMean_test_accuracy_sum: 0.3850\n",
      "Epoch: 11 \tTotal: 332.7814 \tMean_train_accuracy: 0.6896\n",
      "\tMean_test_accuracy: 0.6450 \tMean_test_accuracy_sum: 0.3850\n",
      "Epoch: 12 \tTotal: 333.5051 \tMean_train_accuracy: 0.6866\n",
      "\tMean_test_accuracy: 0.6242 \tMean_test_accuracy_sum: 0.3850\n",
      "Epoch: 13 \tTotal: 334.2506 \tMean_train_accuracy: 0.6894\n",
      "\tMean_test_accuracy: 0.6408 \tMean_test_accuracy_sum: 0.3850\n",
      "Epoch: 14 \tTotal: 333.9456 \tMean_train_accuracy: 0.6861\n",
      "\tMean_test_accuracy: 0.6258 \tMean_test_accuracy_sum: 0.3850\n",
      "Epoch: 15 \tTotal: 332.8706 \tMean_train_accuracy: 0.6880\n",
      "\tMean_test_accuracy: 0.6350 \tMean_test_accuracy_sum: 0.3850\n",
      "Epoch: 16 \tTotal: 333.0963 \tMean_train_accuracy: 0.6893\n",
      "\tMean_test_accuracy: 0.6325 \tMean_test_accuracy_sum: 0.3850\n",
      "Epoch: 17 \tTotal: 333.6789 \tMean_train_accuracy: 0.6959\n",
      "\tMean_test_accuracy: 0.6358 \tMean_test_accuracy_sum: 0.3850\n",
      "Epoch: 18 \tTotal: 334.2007 \tMean_train_accuracy: 0.6857\n",
      "\tMean_test_accuracy: 0.6250 \tMean_test_accuracy_sum: 0.3850\n",
      "Epoch: 19 \tTotal: 333.5013 \tMean_train_accuracy: 0.6949\n",
      "\tMean_test_accuracy: 0.6325 \tMean_test_accuracy_sum: 0.3850\n",
      "Epoch: 20 \tTotal: 334.4489 \tMean_train_accuracy: 0.6893\n",
      "\tMean_test_accuracy: 0.6400 \tMean_test_accuracy_sum: 0.3850\n",
      "Epoch: 21 \tTotal: 334.4502 \tMean_train_accuracy: 0.6841\n",
      "\tMean_test_accuracy: 0.6425 \tMean_test_accuracy_sum: 0.3850\n",
      "Epoch: 22 \tTotal: 334.0930 \tMean_train_accuracy: 0.6891\n",
      "\tMean_test_accuracy: 0.6383 \tMean_test_accuracy_sum: 0.3850\n",
      "Epoch: 23 \tTotal: 334.6432 \tMean_train_accuracy: 0.6865\n",
      "\tMean_test_accuracy: 0.6358 \tMean_test_accuracy_sum: 0.3850\n",
      "Epoch: 24 \tTotal: 336.2091 \tMean_train_accuracy: 0.6845\n",
      "\tMean_test_accuracy: 0.6450 \tMean_test_accuracy_sum: 0.3850\n",
      "Epoch: 25 \tTotal: 335.7701 \tMean_train_accuracy: 0.6884\n",
      "\tMean_test_accuracy: 0.6450 \tMean_test_accuracy_sum: 0.3850\n",
      "Epoch: 26 \tTotal: 336.8947 \tMean_train_accuracy: 0.6894\n",
      "\tMean_test_accuracy: 0.6258 \tMean_test_accuracy_sum: 0.3850\n",
      "Epoch: 27 \tTotal: 338.7397 \tMean_train_accuracy: 0.6897\n",
      "\tMean_test_accuracy: 0.6542 \tMean_test_accuracy_sum: 0.3850\n",
      "Epoch: 28 \tTotal: 344.0808 \tMean_train_accuracy: 0.6872\n",
      "\tMean_test_accuracy: 0.6525 \tMean_test_accuracy_sum: 0.3850\n",
      "Epoch: 29 \tTotal: 345.6373 \tMean_train_accuracy: 0.6826\n",
      "\tMean_test_accuracy: 0.6467 \tMean_test_accuracy_sum: 0.3850\n",
      "Epoch: 30 \tTotal: 343.4353 \tMean_train_accuracy: 0.6855\n",
      "\tMean_test_accuracy: 0.6558 \tMean_test_accuracy_sum: 0.3850\n",
      "Epoch: 31 \tTotal: 336.9864 \tMean_train_accuracy: 0.6965\n",
      "\tMean_test_accuracy: 0.6375 \tMean_test_accuracy_sum: 0.3850\n",
      "Epoch: 32 \tTotal: 334.6807 \tMean_train_accuracy: 0.6935\n",
      "\tMean_test_accuracy: 0.6458 \tMean_test_accuracy_sum: 0.3850\n",
      "Epoch: 33 \tTotal: 333.4914 \tMean_train_accuracy: 0.6919\n",
      "\tMean_test_accuracy: 0.6408 \tMean_test_accuracy_sum: 0.3850\n",
      "Epoch: 34 \tTotal: 333.2573 \tMean_train_accuracy: 0.6899\n",
      "\tMean_test_accuracy: 0.6350 \tMean_test_accuracy_sum: 0.3850\n",
      "Epoch: 35 \tTotal: 332.5145 \tMean_train_accuracy: 0.6906\n",
      "\tMean_test_accuracy: 0.6358 \tMean_test_accuracy_sum: 0.3850\n",
      "Epoch: 36 \tTotal: 332.8203 \tMean_train_accuracy: 0.6843\n",
      "\tMean_test_accuracy: 0.6558 \tMean_test_accuracy_sum: 0.3850\n",
      "Epoch: 37 \tTotal: 333.8021 \tMean_train_accuracy: 0.6863\n",
      "\tMean_test_accuracy: 0.6350 \tMean_test_accuracy_sum: 0.3850\n",
      "Epoch: 38 \tTotal: 333.2056 \tMean_train_accuracy: 0.6847\n",
      "\tMean_test_accuracy: 0.6333 \tMean_test_accuracy_sum: 0.3850\n",
      "Epoch: 39 \tTotal: 334.3094 \tMean_train_accuracy: 0.7003\n",
      "\tMean_test_accuracy: 0.6233 \tMean_test_accuracy_sum: 0.3850\n",
      "Epoch: 40 \tTotal: 333.8083 \tMean_train_accuracy: 0.6926\n",
      "\tMean_test_accuracy: 0.6475 \tMean_test_accuracy_sum: 0.3850\n"
     ]
    }
   ],
   "source": [
    "edge_index = edge_index.to(device)\n",
    "top_num = 300\n",
    "\n",
    "for epoch in range(2000):\n",
    "\n",
    "    total_overall = 0\n",
    "    forward_loss = 0\n",
    "\n",
    "    mean_train_accuracy = 0\n",
    "    for batch_idx, feature_label in enumerate(train_loader):        \n",
    "        features = feature_label[0].to(device)\n",
    "        labels = feature_label[1].to(device)\n",
    "        optimizer.zero_grad()\n",
    "        \n",
    "        loss = 0\n",
    "        train_accuracy = 0\n",
    "        for i, x_i in enumerate(features):\n",
    "            \n",
    "            # log_sum = torch.sum(torch.log(1 - x_i), dim=1, keepdim=True)\n",
    "            # feat = 1 - torch.exp(log_sum)\n",
    "            \n",
    "            y_i = labels[i]\n",
    "            y_hat = forward_model(x_i, edge_index)\n",
    "            _, top_indices_true = torch.topk(y_i.clone(), top_num)\n",
    "            \n",
    "            _, top_indices_predict = torch.topk(y_hat.clone().squeeze(-1), top_num)\n",
    "            \n",
    "            # 将张量数组转换为Python列表\n",
    "            list1 = top_indices_true.tolist()\n",
    "            list_pre = top_indices_predict.tolist()\n",
    "\n",
    "            # 使用集合操作找到交集\n",
    "            intersection = list(set(list1) & set(list_pre))\n",
    "            accuracy_i = len(intersection) / top_num       \n",
    "            train_accuracy += accuracy_i \n",
    "\n",
    "            forward_loss = F.mse_loss(y_hat.squeeze(-1), y_i, reduction='sum')        \n",
    "            loss += forward_loss    \n",
    "        \n",
    "        total_overall += loss.item()    \n",
    "        train_accuracy /= len(features)\n",
    "        mean_train_accuracy = train_accuracy\n",
    "        loss.backward()\n",
    "        optimizer.step()\n",
    "        # for p in forward_model.parameters():\n",
    "        #     p.data.clamp_(min=0)\n",
    "        \n",
    "        \n",
    "    print(\"Epoch: {}\".format(epoch+1), \n",
    "        \"\\tTotal: {:.4f}\".format(total_overall / train_batch_size),\n",
    "        \"\\tMean_train_accuracy: {:.4f}\".format(mean_train_accuracy),\n",
    "        )  \n",
    "    \n",
    "    mean_accuracy = 0\n",
    "    mean_accuracy_sum = 0\n",
    "\n",
    "    \n",
    "    for batch_idx, feature_label in enumerate(test_loader):   \n",
    "        features = feature_label[0].to(device)\n",
    "        labels = feature_label[1].to(device)\n",
    "        \n",
    "        accuracy = 0\n",
    "        accuracy_sum = 0\n",
    "        \n",
    "        for i, x_i in enumerate(features):\n",
    "            y_i = labels[i]\n",
    "            _, top_indices_true = torch.topk(y_i, top_num)\n",
    "            \n",
    "            y_hat = forward_model(x_i, edge_index)\n",
    "            \n",
    "            _, top_indices_predict = torch.topk(y_hat.squeeze(-1), top_num)\n",
    "            \n",
    "            sum_pre = torch.sum(x_i, dim=1, keepdim=True)\n",
    "            _, top_indices_sum = torch.topk(sum_pre.squeeze(-1), top_num)\n",
    "            \n",
    "            # 将张量数组转换为Python列表\n",
    "            list1 = top_indices_true.tolist()\n",
    "            list_pre = top_indices_predict.tolist()\n",
    "            \n",
    "            list_sum = top_indices_sum.tolist()\n",
    "\n",
    "            # 使用集合操作找到交集\n",
    "            intersection = list(set(list1) & set(list_pre))\n",
    "            \n",
    "            intersection_sum = list(set(list1) & set(list_sum))\n",
    "            \n",
    "            accuracy_i = len(intersection) / top_num       \n",
    "            accuracy += accuracy_i \n",
    "            accuracy_sum += len(intersection_sum) / top_num  \n",
    "        accuracy /= test_batch_size\n",
    "        accuracy_sum/= test_batch_size\n",
    "        mean_accuracy = accuracy\n",
    "        mean_accuracy_sum = accuracy_sum\n",
    "        break\n",
    "    \n",
    "    print(\n",
    "        \"\\tMean_test_accuracy: {:.4f}\".format(mean_accuracy),\n",
    "        \"\\tMean_test_accuracy_sum: {:.4f}\".format(mean_accuracy_sum)\n",
    "        )  \n",
    "\n",
    "    "
   ]
  }
 ],
 "metadata": {
  "kernelspec": {
   "display_name": "Python 3 (ipykernel)",
   "language": "python",
   "name": "python3"
  },
  "language_info": {
   "codemirror_mode": {
    "name": "ipython",
    "version": 3
   },
   "file_extension": ".py",
   "mimetype": "text/x-python",
   "name": "python",
   "nbconvert_exporter": "python",
   "pygments_lexer": "ipython3",
   "version": "3.11.7"
  }
 },
 "nbformat": 4,
 "nbformat_minor": 2
}
