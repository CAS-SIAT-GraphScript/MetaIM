{
 "cells": [
  {
   "cell_type": "code",
   "execution_count": 97,
   "metadata": {},
   "outputs": [
    {
     "data": {
      "text/plain": [
       "device(type='cuda', index=1)"
      ]
     },
     "execution_count": 97,
     "metadata": {},
     "output_type": "execute_result"
    }
   ],
   "source": [
    "import torch\n",
    "pwd = '/home/zjy/project/MetaIM/data'\n",
    "device = torch.device('cuda:1' if torch.cuda.is_available() else 'cpu')\n",
    "device"
   ]
  },
  {
   "cell_type": "code",
   "execution_count": 98,
   "metadata": {},
   "outputs": [],
   "source": [
    "from torch_geometric.datasets import Planetoid\n",
    "\n",
    "cora_dataset = Planetoid(root=pwd+'/cora', name='cora')\n",
    "data = cora_dataset[0]\n",
    "edge_index = data.edge_index"
   ]
  },
  {
   "cell_type": "code",
   "execution_count": 99,
   "metadata": {},
   "outputs": [
    {
     "data": {
      "text/plain": [
       "((2708, 2708), (500, 2, 2708))"
      ]
     },
     "execution_count": 99,
     "metadata": {},
     "output_type": "execute_result"
    }
   ],
   "source": [
    "import numpy as np\n",
    "individual_infection_path = pwd+'/for_meta/cora_individual_infection_sir_100.npy'\n",
    "seeds_infection_path = pwd+'/for_meta/cora_seed_infection_sir_100.npy'\n",
    "\n",
    "individual_infection = np.load(individual_infection_path)\n",
    "seeds_infection = np.load(seeds_infection_path)\n",
    "individual_infection.shape,seeds_infection.shape"
   ]
  },
  {
   "cell_type": "code",
   "execution_count": 100,
   "metadata": {},
   "outputs": [
    {
     "data": {
      "text/plain": [
       "tensor(indices=tensor([[   0,    0,    0,  ..., 2707, 2707, 2707],\n",
       "                       [ 633, 1862, 2582,  ...,  598, 1473, 2706]]),\n",
       "       values=tensor([1., 1., 1.,  ..., 1., 1., 1.]),\n",
       "       size=(2708, 2708), nnz=10556, layout=torch.sparse_coo)"
      ]
     },
     "execution_count": 100,
     "metadata": {},
     "output_type": "execute_result"
    }
   ],
   "source": [
    "import torch\n",
    "from torch_geometric.utils import to_scipy_sparse_matrix\n",
    "import scipy.sparse as sp\n",
    "\n",
    "# 转换为 scipy 稀疏矩阵\n",
    "adj = to_scipy_sparse_matrix(edge_index)\n",
    "\n",
    "\n",
    "# def normalize_adj(mx):\n",
    "#     \"\"\"Row-normalize sparse matrix\"\"\"\n",
    "#     rowsum = np.array(mx.sum(1))\n",
    "#     r_inv_sqrt = np.power(rowsum, -0.5).flatten()\n",
    "#     r_inv_sqrt[np.isinf(r_inv_sqrt)] = 0.\n",
    "#     r_mat_inv_sqrt = sp.diags(r_inv_sqrt)\n",
    "#     return mx.dot(r_mat_inv_sqrt).transpose().dot(r_mat_inv_sqrt)\n",
    "\n",
    "\n",
    "\n",
    "# adj = adj + adj.T.multiply(adj.T > adj) - adj.multiply(adj.T > adj)\n",
    "# adj = normalize_adj(adj + sp.eye(adj.shape[0]))\n",
    "adj = torch.Tensor(adj.toarray()).to_sparse()\n",
    "adj\n"
   ]
  },
  {
   "cell_type": "code",
   "execution_count": 101,
   "metadata": {},
   "outputs": [],
   "source": [
    "feat_num = int(seeds_infection[0][0].sum())"
   ]
  },
  {
   "cell_type": "code",
   "execution_count": 102,
   "metadata": {},
   "outputs": [],
   "source": [
    "from torch.utils.data import Dataset, DataLoader, random_split\n",
    "\n",
    "\n",
    "class CustomDataset(Dataset):\n",
    "    def __init__(self, individual_infection,seeds_infection, feat_num):\n",
    "        self.individual_infection = individual_infection\n",
    "        self.seeds_infection = seeds_infection\n",
    "        self.feat_shape = (len(individual_infection), feat_num)\n",
    "\n",
    "    def __len__(self):\n",
    "        return len(self.seeds_infection)\n",
    "\n",
    "    def __getitem__(self, idx):\n",
    "        seeds= np.nonzero(self.seeds_infection[idx][0])[0]\n",
    "        \n",
    "        feature = torch.zeros(self.feat_shape[0],self.feat_shape[1])\n",
    "        for i in range(len(seeds)):\n",
    "            seed_i_infection = torch.tensor(self.individual_infection[seeds[i]])\n",
    "            feature[:, i] = seed_i_infection\n",
    "            \n",
    "        label = self.seeds_infection[idx][1]\n",
    "        \n",
    "        return feature, label\n",
    "\n",
    "dataset = CustomDataset(individual_infection,seeds_infection,feat_num)"
   ]
  },
  {
   "cell_type": "code",
   "execution_count": 103,
   "metadata": {},
   "outputs": [],
   "source": [
    "# 定义划分比例\n",
    "train_ratio = 0.8\n",
    "test_ratio = 0.2\n",
    "\n",
    "# 划分数据集\n",
    "train_dataset, test_dataset = random_split(dataset, [int(len(dataset)*train_ratio), int(len(dataset)*test_ratio)])\n",
    "\n",
    "train_batch_size = 64\n",
    "test_batch_size = 4\n",
    "\n",
    "# 创建数据加载器\n",
    "train_loader = DataLoader(train_dataset, batch_size=train_batch_size, shuffle=True, drop_last=False)\n",
    "test_loader = DataLoader(test_dataset, batch_size=test_batch_size, shuffle=False)"
   ]
  },
  {
   "cell_type": "code",
   "execution_count": 104,
   "metadata": {},
   "outputs": [],
   "source": [
    "import torch\n",
    "import torch.nn as nn\n",
    "import torch.nn.functional as F\n",
    "from torch_geometric.nn import GATConv\n",
    "\n",
    "class GAT(nn.Module):\n",
    "    def __init__(self, in_channels, hidden_channels, out_channels, num_heads):\n",
    "        super(GAT, self).__init__()\n",
    "        self.conv1 = GATConv(in_channels, hidden_channels, heads=num_heads)\n",
    "        self.conv2 = GATConv(hidden_channels * num_heads, out_channels, heads=1)\n",
    "\n",
    "    def forward(self, x, edge_index):\n",
    "        x = F.elu(self.conv1(x, edge_index))\n",
    "        x = F.dropout(x, p=0.2, training=self.training)\n",
    "        x = self.conv2(x, edge_index)\n",
    "        return F.elu(x)"
   ]
  },
  {
   "cell_type": "code",
   "execution_count": 105,
   "metadata": {},
   "outputs": [
    {
     "data": {
      "text/plain": [
       "GAT(\n",
       "  (conv1): GATConv(135, 256, heads=4)\n",
       "  (conv2): GATConv(1024, 1, heads=1)\n",
       ")"
      ]
     },
     "execution_count": 105,
     "metadata": {},
     "output_type": "execute_result"
    }
   ],
   "source": [
    "# from data.model.gat import GAT, SpGAT\n",
    "from torch.optim import Adam, SGD\n",
    "\n",
    "\n",
    "# forward_model = SpGAT(nfeat=feat_num, \n",
    "#                 nhid=64, \n",
    "#                 nclass=1, \n",
    "#                 dropout=0.2, \n",
    "#                 nheads=1, \n",
    "#                 alpha=0.2)\n",
    "forward_model = GAT(feat_num, 256, 1, 4)\n",
    "\n",
    "optimizer = Adam([{'params': forward_model.parameters()}], \n",
    "                 lr=1e-3)\n",
    "\n",
    "adj = adj.to(device)\n",
    "forward_model = forward_model.to(device)\n",
    "forward_model.train()"
   ]
  },
  {
   "cell_type": "code",
   "execution_count": 107,
   "metadata": {},
   "outputs": [
    {
     "name": "stdout",
     "output_type": "stream",
     "text": [
      "Epoch: 1 \tTotal: 780.1440\n",
      "\tMean_accuracy: 0.2892 \tMean_accuracy_sum: 0.3692\n",
      "Epoch: 2 \tTotal: 779.2912\n",
      "\tMean_accuracy: 0.2858 \tMean_accuracy_sum: 0.3692\n",
      "Epoch: 3 \tTotal: 779.0525\n",
      "\tMean_accuracy: 0.2950 \tMean_accuracy_sum: 0.3692\n",
      "Epoch: 4 \tTotal: 778.5903\n",
      "\tMean_accuracy: 0.2958 \tMean_accuracy_sum: 0.3692\n",
      "Epoch: 5 \tTotal: 778.2171\n",
      "\tMean_accuracy: 0.2992 \tMean_accuracy_sum: 0.3692\n",
      "Epoch: 6 \tTotal: 777.8897\n",
      "\tMean_accuracy: 0.3058 \tMean_accuracy_sum: 0.3692\n",
      "Epoch: 7 \tTotal: 777.6025\n",
      "\tMean_accuracy: 0.3008 \tMean_accuracy_sum: 0.3692\n",
      "Epoch: 8 \tTotal: 777.0431\n",
      "\tMean_accuracy: 0.2967 \tMean_accuracy_sum: 0.3692\n",
      "Epoch: 9 \tTotal: 776.6345\n",
      "\tMean_accuracy: 0.2983 \tMean_accuracy_sum: 0.3692\n",
      "Epoch: 10 \tTotal: 776.1371\n",
      "\tMean_accuracy: 0.3058 \tMean_accuracy_sum: 0.3692\n",
      "Epoch: 11 \tTotal: 775.5872\n",
      "\tMean_accuracy: 0.2908 \tMean_accuracy_sum: 0.3692\n",
      "Epoch: 12 \tTotal: 774.8570\n",
      "\tMean_accuracy: 0.3100 \tMean_accuracy_sum: 0.3692\n",
      "Epoch: 13 \tTotal: 774.3362\n",
      "\tMean_accuracy: 0.3025 \tMean_accuracy_sum: 0.3692\n",
      "Epoch: 14 \tTotal: 773.7811\n",
      "\tMean_accuracy: 0.3133 \tMean_accuracy_sum: 0.3692\n",
      "Epoch: 15 \tTotal: 773.3247\n",
      "\tMean_accuracy: 0.3008 \tMean_accuracy_sum: 0.3692\n",
      "Epoch: 16 \tTotal: 772.5922\n",
      "\tMean_accuracy: 0.3008 \tMean_accuracy_sum: 0.3692\n",
      "Epoch: 17 \tTotal: 771.8754\n",
      "\tMean_accuracy: 0.3025 \tMean_accuracy_sum: 0.3692\n",
      "Epoch: 18 \tTotal: 771.3656\n",
      "\tMean_accuracy: 0.3108 \tMean_accuracy_sum: 0.3692\n",
      "Epoch: 19 \tTotal: 770.9202\n",
      "\tMean_accuracy: 0.2975 \tMean_accuracy_sum: 0.3692\n",
      "Epoch: 20 \tTotal: 770.6189\n",
      "\tMean_accuracy: 0.3025 \tMean_accuracy_sum: 0.3692\n",
      "Epoch: 21 \tTotal: 770.2980\n",
      "\tMean_accuracy: 0.2992 \tMean_accuracy_sum: 0.3692\n",
      "Epoch: 22 \tTotal: 769.9520\n",
      "\tMean_accuracy: 0.3100 \tMean_accuracy_sum: 0.3692\n",
      "Epoch: 23 \tTotal: 769.6879\n",
      "\tMean_accuracy: 0.3050 \tMean_accuracy_sum: 0.3692\n",
      "Epoch: 24 \tTotal: 769.3775\n",
      "\tMean_accuracy: 0.3050 \tMean_accuracy_sum: 0.3692\n",
      "Epoch: 25 \tTotal: 769.1580\n",
      "\tMean_accuracy: 0.3025 \tMean_accuracy_sum: 0.3692\n",
      "Epoch: 26 \tTotal: 768.7940\n",
      "\tMean_accuracy: 0.3150 \tMean_accuracy_sum: 0.3692\n",
      "Epoch: 27 \tTotal: 768.5719\n",
      "\tMean_accuracy: 0.3025 \tMean_accuracy_sum: 0.3692\n",
      "Epoch: 28 \tTotal: 768.2470\n",
      "\tMean_accuracy: 0.3100 \tMean_accuracy_sum: 0.3692\n",
      "Epoch: 29 \tTotal: 767.9850\n",
      "\tMean_accuracy: 0.3133 \tMean_accuracy_sum: 0.3692\n",
      "Epoch: 30 \tTotal: 767.9330\n",
      "\tMean_accuracy: 0.3050 \tMean_accuracy_sum: 0.3692\n",
      "Epoch: 31 \tTotal: 767.4434\n",
      "\tMean_accuracy: 0.3083 \tMean_accuracy_sum: 0.3692\n",
      "Epoch: 32 \tTotal: 767.2044\n",
      "\tMean_accuracy: 0.3150 \tMean_accuracy_sum: 0.3692\n",
      "Epoch: 33 \tTotal: 766.8729\n",
      "\tMean_accuracy: 0.3008 \tMean_accuracy_sum: 0.3692\n",
      "Epoch: 34 \tTotal: 766.7563\n",
      "\tMean_accuracy: 0.3075 \tMean_accuracy_sum: 0.3692\n",
      "Epoch: 35 \tTotal: 766.5248\n",
      "\tMean_accuracy: 0.3000 \tMean_accuracy_sum: 0.3692\n",
      "Epoch: 36 \tTotal: 766.1446\n",
      "\tMean_accuracy: 0.3142 \tMean_accuracy_sum: 0.3692\n",
      "Epoch: 37 \tTotal: 765.9268\n",
      "\tMean_accuracy: 0.3108 \tMean_accuracy_sum: 0.3692\n",
      "Epoch: 38 \tTotal: 765.4488\n",
      "\tMean_accuracy: 0.3125 \tMean_accuracy_sum: 0.3692\n",
      "Epoch: 39 \tTotal: 765.1736\n",
      "\tMean_accuracy: 0.3150 \tMean_accuracy_sum: 0.3692\n"
     ]
    }
   ],
   "source": [
    "edge_index = edge_index.to(device)\n",
    "\n",
    "for epoch in range(2000):\n",
    "\n",
    "    total_overall = 0\n",
    "    forward_loss = 0\n",
    "\n",
    "    for batch_idx, feature_label in enumerate(train_loader):        \n",
    "        features = feature_label[0].to(device)\n",
    "        labels = feature_label[1].to(device)\n",
    "        optimizer.zero_grad()\n",
    "        \n",
    "        loss = 0\n",
    "        for i, x_i in enumerate(features):\n",
    "            y_i = labels[i]\n",
    "            y_hat = forward_model(x_i, edge_index)\n",
    "\n",
    "            forward_loss = F.mse_loss(y_hat.squeeze(-1), y_i, reduction='sum')        \n",
    "            loss += forward_loss    \n",
    "        \n",
    "        total_overall += loss.item()    \n",
    "        \n",
    "            \n",
    "        loss.backward()\n",
    "        optimizer.step()\n",
    "        \n",
    "        \n",
    "    print(\"Epoch: {}\".format(epoch+1), \n",
    "        \"\\tTotal: {:.4f}\".format(total_overall / train_batch_size),\n",
    "        )  \n",
    "    \n",
    "    mean_accuracy = 0\n",
    "    mean_accuracy_sum = 0\n",
    "\n",
    "    \n",
    "    for batch_idx, feature_label in enumerate(test_loader):   \n",
    "        features = feature_label[0].to(device)\n",
    "        labels = feature_label[1].to(device)\n",
    "        \n",
    "        accuracy = 0\n",
    "        accuracy_sum = 0\n",
    "        \n",
    "        for i, x_i in enumerate(features):\n",
    "            y_i = labels[i]\n",
    "            _, top_indices_true = torch.topk(y_i, 300)\n",
    "            \n",
    "            y_hat = forward_model(x_i, edge_index)\n",
    "            \n",
    "            _, top_indices_predict = torch.topk(y_hat.squeeze(-1), 300)\n",
    "            \n",
    "            sum_pre = torch.sum(x_i, dim=1, keepdim=True)\n",
    "            _, top_indices_sum = torch.topk(sum_pre.squeeze(-1), 300)\n",
    "            \n",
    "            # 将张量数组转换为Python列表\n",
    "            list1 = top_indices_true.tolist()\n",
    "            list_pre = top_indices_predict.tolist()\n",
    "            \n",
    "            list_sum = top_indices_sum.tolist()\n",
    "\n",
    "            # 使用集合操作找到交集\n",
    "            intersection = list(set(list1) & set(list_pre))\n",
    "            \n",
    "            intersection_sum = list(set(list1) & set(list_sum))\n",
    "            \n",
    "            accuracy_i = len(intersection) / 300       \n",
    "            accuracy += accuracy_i \n",
    "            accuracy_sum += len(intersection_sum) / 300  \n",
    "        accuracy /= test_batch_size\n",
    "        accuracy_sum/= test_batch_size\n",
    "        mean_accuracy = accuracy\n",
    "        mean_accuracy_sum = accuracy_sum\n",
    "        break\n",
    "    \n",
    "    print(\n",
    "        \"\\tMean_accuracy: {:.4f}\".format(mean_accuracy),\n",
    "        \"\\tMean_accuracy_sum: {:.4f}\".format(mean_accuracy_sum)\n",
    "        )  \n",
    "\n",
    "    "
   ]
  },
  {
   "cell_type": "code",
   "execution_count": null,
   "metadata": {},
   "outputs": [
    {
     "name": "stdout",
     "output_type": "stream",
     "text": [
      "Intersection: [3, 4, 5]\n"
     ]
    }
   ],
   "source": [
    "import torch\n",
    "\n",
    "# 创建两个张量数组\n",
    "tensor1 = torch.tensor([1, 2, 3, 4, 5])\n",
    "tensor2 = torch.tensor([3, 4, 5, 6, 7])\n",
    "\n",
    "# 将张量数组转换为Python列表\n",
    "list1 = tensor1.tolist()\n",
    "list2 = tensor2.tolist()\n",
    "\n",
    "# 使用集合操作找到交集\n",
    "intersection = list(set(list1) & set(list2))\n",
    "\n",
    "print(\"Intersection:\", intersection)\n"
   ]
  }
 ],
 "metadata": {
  "kernelspec": {
   "display_name": "Python 3 (ipykernel)",
   "language": "python",
   "name": "python3"
  },
  "language_info": {
   "codemirror_mode": {
    "name": "ipython",
    "version": 3
   },
   "file_extension": ".py",
   "mimetype": "text/x-python",
   "name": "python",
   "nbconvert_exporter": "python",
   "pygments_lexer": "ipython3",
   "version": "3.11.7"
  }
 },
 "nbformat": 4,
 "nbformat_minor": 2
}
