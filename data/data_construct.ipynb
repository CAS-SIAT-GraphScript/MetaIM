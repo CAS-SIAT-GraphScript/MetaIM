{
 "cells": [
  {
   "cell_type": "code",
   "execution_count": 98,
   "metadata": {},
   "outputs": [
    {
     "data": {
      "text/plain": [
       "device(type='cuda', index=0)"
      ]
     },
     "execution_count": 98,
     "metadata": {},
     "output_type": "execute_result"
    }
   ],
   "source": [
    "import torch\n",
    "pwd = '/home/zjy/project/MetaIM/data'\n",
    "device = torch.device('cuda:0' if torch.cuda.is_available() else 'cpu')\n",
    "device"
   ]
  },
  {
   "cell_type": "code",
   "execution_count": 99,
   "metadata": {},
   "outputs": [],
   "source": [
    "import networkx as nx \n",
    "from torch_geometric.nn import MessagePassing\n",
    "\n",
    "from torch_geometric.utils import dense_to_sparse\n",
    "import torch.nn.functional as F\n",
    "\n",
    "class SIR(MessagePassing):\n",
    "    def __init__(self, N, beta, gamma, C ,steps, device):\n",
    "        super().__init__(aggr=\"add\")\n",
    "        self.N = N\n",
    "        self.beta = beta\n",
    "        self.gamma = gamma\n",
    "        self.C = C\n",
    "        self.steps = steps\n",
    "        self.device = device\n",
    "\n",
    "    def init_state(self,x0=None):\n",
    "        if x0 is None:\n",
    "            x = torch.zeros(self.N,1).to(self.device)\n",
    "            ind = torch.argsort(self.w.view(-1),descending=True)\n",
    "            x[ind[:self.C]] = 1    \n",
    "        else:\n",
    "            x = x0    \n",
    "        r = torch.zeros(self.N,1).to(self.device)\n",
    "        s = 1 - x\n",
    "        return s, x ,r\n",
    "    \n",
    "    def single_step_forward(self, edge_index, s, x, r):\n",
    "        q = self.propagate(edge_index, x=torch.log(1-self.beta*x))\n",
    "        q = torch.exp(q)\n",
    "        s, x, r = s*q, (1-self.gamma)*x + s*(1-q) , r+ self.gamma*x\n",
    "        return s, x, r\n",
    "\n",
    "    def forward(self, edge_index, x0=None):\n",
    "        s, x, r = self.init_state(x0)\n",
    "        for i in range(self.steps): \n",
    "           s, x ,r = self.single_step_forward(edge_index,s,x,r)\n",
    "        return s, x, r\n",
    "\n",
    "    def message(self, x_j):\n",
    "        return x_j\n"
   ]
  },
  {
   "cell_type": "code",
   "execution_count": 100,
   "metadata": {},
   "outputs": [
    {
     "data": {
      "text/plain": [
       "torch.Size([2, 10556])"
      ]
     },
     "execution_count": 100,
     "metadata": {},
     "output_type": "execute_result"
    }
   ],
   "source": [
    "from torch_geometric.datasets import Planetoid\n",
    "import torch\n",
    "\n",
    "dataset = Planetoid(root=pwd+'/cora', name='cora')\n",
    "data = dataset[0]\n",
    "edge_index = data.edge_index\n",
    "edge_index.size()"
   ]
  },
  {
   "cell_type": "code",
   "execution_count": 101,
   "metadata": {},
   "outputs": [
    {
     "data": {
      "text/plain": [
       "tensor([[   0,  633,    0,  ..., 2695, 2706, 2707],\n",
       "        [ 633,    0, 1862,  ..., 2694, 2707, 2706]], device='cuda:0')"
      ]
     },
     "execution_count": 101,
     "metadata": {},
     "output_type": "execute_result"
    }
   ],
   "source": [
    "def to_undirected(edge_index):\n",
    "    \"\"\"\n",
    "    将有向边转换为无向边\n",
    "    \"\"\"\n",
    "    edge_index = edge_index.t().numpy()\n",
    "    # 创建一个空的集合，用于存储已添加的边\n",
    "    undirected_edge_set = set()\n",
    "\n",
    "    # 创建一个空的列表，用于存储无向边的索引\n",
    "    undirected_edge_index = []\n",
    "\n",
    "    # 遍历每一条有向边\n",
    "    for edge in edge_index:\n",
    "        # 将边按照节点索引排序，确保无向边的唯一性\n",
    "\n",
    "        sorted_edge = tuple(sorted(edge))\n",
    "\n",
    "        # 如果边没有被添加过，则将其添加到集合和列表中\n",
    "        if sorted_edge not in undirected_edge_set:\n",
    "            undirected_edge_set.add(sorted_edge)\n",
    "            tensor_sorted_edge = torch.tensor([sorted_edge[0], sorted_edge[1]])\n",
    "            undirected_edge_index.append(tensor_sorted_edge)\n",
    "            undirected_edge_index.append(tensor_sorted_edge.flip(0))\n",
    "\n",
    "    return  torch.stack(undirected_edge_index, dim=1)\n",
    "u_edge_index = to_undirected(edge_index).to(device)\n",
    "u_edge_index\n"
   ]
  },
  {
   "cell_type": "code",
   "execution_count": 102,
   "metadata": {},
   "outputs": [],
   "source": [
    "N = data.num_nodes\n",
    "beta = 0.1\n",
    "gamma = 1.0\n",
    "steps = 100\n",
    "\n",
    "model = SIR(N,beta,gamma,50,steps,device).to(device)"
   ]
  },
  {
   "cell_type": "code",
   "execution_count": 103,
   "metadata": {},
   "outputs": [
    {
     "data": {
      "text/plain": [
       "tensor([1.0000, 0.0028, 0.0273,  ..., 0.0000, 0.0050, 0.0156])"
      ]
     },
     "execution_count": 103,
     "metadata": {},
     "output_type": "execute_result"
    }
   ],
   "source": [
    "individual_infection = torch.zeros(N,N)\n",
    "for i in range(N):\n",
    "    x0 = torch.zeros(N,1).to(device)\n",
    "    x0[i] = 1\n",
    "    _,x,r = model(u_edge_index, x0=x0)\n",
    "    individual_infection[i] = r.squeeze().cpu()\n",
    "individual_infection[0]"
   ]
  },
  {
   "cell_type": "code",
   "execution_count": 104,
   "metadata": {},
   "outputs": [],
   "source": [
    "import numpy as np\n",
    "np.save(pwd+'/for_meta/cora_individual_infection_sir_100.npy', individual_infection.numpy())\n"
   ]
  },
  {
   "cell_type": "code",
   "execution_count": 105,
   "metadata": {},
   "outputs": [
    {
     "data": {
      "text/plain": [
       "tensor([1.0000, 0.1146, 0.1504, 0.1101, 0.1011, 0.1586, 0.1111, 0.1012, 0.3335,\n",
       "        0.1353, 0.1171, 0.1029, 0.1494, 0.1301, 0.1519, 0.1743, 0.1840, 0.1319,\n",
       "        0.1230, 0.1046, 0.1017, 0.1037, 0.2156, 0.1241, 0.1213, 0.6098, 0.1147,\n",
       "        0.1054, 0.1101, 0.1108, 0.1424, 0.1867, 0.1043, 0.1451, 0.1041, 0.1602,\n",
       "        0.1029, 0.1131, 0.1705, 0.1031, 0.1901, 0.1247, 0.1035, 0.1198, 0.1141,\n",
       "        0.1581, 0.1213, 0.1134, 0.1179, 0.1050, 0.1323, 0.1779, 0.1379, 0.1090,\n",
       "        0.1146, 0.1709, 0.1174, 0.1122, 0.1188, 0.1051, 0.1188, 0.1343, 0.1032,\n",
       "        0.1178, 0.1069, 0.1064, 0.1158, 0.1051, 0.1262, 0.1194, 0.1061, 0.1136,\n",
       "        0.1220, 0.1002, 0.1362, 0.1097, 0.1410, 0.3585, 0.2024, 0.1011, 0.1227,\n",
       "        0.1178, 0.1576, 0.2741, 0.1088, 0.1305, 0.1084, 0.1021, 0.1413, 0.1003,\n",
       "        0.1044, 0.1010, 0.1054, 0.1092, 0.1121, 0.8608, 0.1193, 0.1074, 0.1014,\n",
       "        0.1011, 0.2847, 0.1031, 0.1108, 0.1240, 0.1045, 0.1031, 0.1245, 0.1062,\n",
       "        0.1313, 0.3287, 0.1266, 0.3213, 0.1033, 0.1349, 0.1097, 0.1248, 0.1083,\n",
       "        0.1301, 0.1033, 0.1362, 0.1362, 0.1407, 0.1134, 0.2298, 0.1121, 0.1112,\n",
       "        0.1371, 0.1097, 0.1241, 0.1391, 0.1488, 0.1110, 0.1224, 0.1126, 0.1512,\n",
       "        0.1770, 0.1637, 0.1547, 0.1031, 0.1314, 0.1102, 0.1140, 0.1321, 0.1030,\n",
       "        0.1101, 0.1092, 0.1191, 0.1154, 0.1068, 0.1170, 0.1011, 0.1115, 0.1156,\n",
       "        0.1210, 0.2251, 0.1083, 0.1104, 0.1924, 0.1206, 0.1384, 0.1365, 0.1035,\n",
       "        0.1672, 0.1132, 0.1437, 0.1020, 0.1527, 0.1222, 0.1232, 0.1401, 0.1256,\n",
       "        0.1397, 0.2592, 0.3449, 0.1247, 0.1024, 0.1352, 0.1024, 0.1003, 0.1158,\n",
       "        0.1302])"
      ]
     },
     "execution_count": 105,
     "metadata": {},
     "output_type": "execute_result"
    }
   ],
   "source": [
    "individual_infection[0][individual_infection[0] > 0.1]"
   ]
  },
  {
   "cell_type": "code",
   "execution_count": 106,
   "metadata": {},
   "outputs": [
    {
     "data": {
      "text/plain": [
       "torch.Size([2708])"
      ]
     },
     "execution_count": 106,
     "metadata": {},
     "output_type": "execute_result"
    }
   ],
   "source": [
    "individual_infection[0].size()"
   ]
  },
  {
   "cell_type": "markdown",
   "metadata": {},
   "source": [
    "5%的初始感染节点"
   ]
  },
  {
   "cell_type": "code",
   "execution_count": 107,
   "metadata": {},
   "outputs": [
    {
     "data": {
      "text/plain": [
       "135"
      ]
     },
     "execution_count": 107,
     "metadata": {},
     "output_type": "execute_result"
    }
   ],
   "source": [
    "seed_rate = 0.05\n",
    "C = int(N * seed_rate)\n",
    "C"
   ]
  },
  {
   "cell_type": "code",
   "execution_count": 108,
   "metadata": {},
   "outputs": [],
   "source": [
    "import random\n",
    "sample_num = 500\n",
    "\n",
    "seeds_infections = torch.zeros(sample_num, 2, N)\n",
    "for i in range(500):\n",
    "    random.seed(i)\n",
    "    random_seeds = random.sample(range(N), C)\n",
    "    \n",
    "    x0 = torch.zeros(N,1).to(device)\n",
    "    x0[random_seeds] = 1\n",
    "    _,x,r = model(u_edge_index, x0=x0)\n",
    "    \n",
    "    seeds_infections[i][0] = x0.squeeze().cpu()\n",
    "    seeds_infections[i][1] = r.squeeze().cpu()"
   ]
  },
  {
   "cell_type": "code",
   "execution_count": 111,
   "metadata": {},
   "outputs": [
    {
     "data": {
      "text/plain": [
       "tensor(283.4185)"
      ]
     },
     "execution_count": 111,
     "metadata": {},
     "output_type": "execute_result"
    }
   ],
   "source": [
    "seeds_infections[0][1].sum()"
   ]
  },
  {
   "cell_type": "code",
   "execution_count": 113,
   "metadata": {},
   "outputs": [],
   "source": [
    "np.save(pwd+'/for_meta/cora_seed_infection_sir_100.npy', seeds_infections.numpy())"
   ]
  }
 ],
 "metadata": {
  "kernelspec": {
   "display_name": "Python 3 (ipykernel)",
   "language": "python",
   "name": "python3"
  },
  "language_info": {
   "codemirror_mode": {
    "name": "ipython",
    "version": 3
   },
   "file_extension": ".py",
   "mimetype": "text/x-python",
   "name": "python",
   "nbconvert_exporter": "python",
   "pygments_lexer": "ipython3",
   "version": "3.11.7"
  }
 },
 "nbformat": 4,
 "nbformat_minor": 2
}
