{
 "cells": [
  {
   "cell_type": "code",
   "execution_count": 27,
   "metadata": {},
   "outputs": [],
   "source": [
    "pwd = '/home/zjy/project/MetaIM/data'"
   ]
  },
  {
   "cell_type": "code",
   "execution_count": 21,
   "metadata": {},
   "outputs": [],
   "source": [
    "import networkx as nx \n",
    "from torch_geometric.nn import MessagePassing\n",
    "import torch\n",
    "from torch_geometric.utils import dense_to_sparse\n",
    "import torch.nn.functional as F\n",
    "\n",
    "class SIR(MessagePassing):\n",
    "    def __init__(self, N, beta, gamma, C ,steps, device):\n",
    "        super().__init__(aggr=\"add\")\n",
    "        self.N = N\n",
    "        self.beta = beta\n",
    "        self.gamma = gamma\n",
    "        self.C = C\n",
    "        self.steps = steps\n",
    "        self.device = device\n",
    "\n",
    "    def init_state(self,x0=None):\n",
    "        if x0 is None:\n",
    "            x = torch.zeros(self.N,1).to(self.device)\n",
    "            ind = torch.argsort(self.w.view(-1),descending=True)\n",
    "            x[ind[:self.C]] = 1    \n",
    "        else:\n",
    "            x = x0    \n",
    "        r = torch.zeros(self.N,1).to(self.device)\n",
    "        s = 1 - x\n",
    "        return s, x ,r\n",
    "    \n",
    "    def single_step_forward(self, edge_index, s, x, r):\n",
    "        q = self.propagate(edge_index, x=torch.log(1-self.beta*x))\n",
    "        q = torch.exp(q)\n",
    "        s, x, r = s*q, (1-self.gamma)*x + s*(1-q) , r+ self.gamma*x\n",
    "        return s, x, r\n",
    "\n",
    "    def forward(self, edge_index, x0=None):\n",
    "        s, x, r = self.init_state(x0)\n",
    "        for i in range(self.steps): \n",
    "           s, x ,r = self.single_step_forward(edge_index,s,x,r)\n",
    "        return s, x, r\n",
    "\n",
    "    def message(self, x_j):\n",
    "        return x_j\n"
   ]
  },
  {
   "cell_type": "code",
   "execution_count": 28,
   "metadata": {},
   "outputs": [],
   "source": [
    "# spreading model parameters\n",
    "\n",
    "\n",
    "# graph \n",
    "# generate a graph\n",
    "# N = 200\n",
    "# k = 6\n",
    "# G = nx.barabasi_albert_graph(N,k)\n",
    "# A = torch.from_numpy(nx.to_numpy_array(G))\n",
    "# edge_index,_ = dense_to_sparse(A)\n",
    "# degree = A.sum(dim=1)\n",
    "\n",
    "from torch_geometric.datasets import Planetoid\n",
    "from torch_geometric.utils import degree\n",
    "\n",
    "dataset = Planetoid(root=pwd+'/cora', name='cora')\n",
    "data = dataset[0]\n",
    "edge_index = data.edge_index\n",
    "# d = degree(edge_index[1])\n",
    "# N = data.num_nodes\n",
    "# # degree-greedy baseline. \n",
    "# ind = torch.argsort(d,descending=True)\n",
    "# x0 = torch.zeros(N,1)\n",
    "# x0[ind[:C]] = 1\n",
    "# model = SIR(N,beta,gamma,C,steps)\n",
    "# _,x,r = model(edge_index, x0=x0)\n",
    "# print('degree-greddy baseline:',float(r.mean()))"
   ]
  },
  {
   "cell_type": "code",
   "execution_count": 80,
   "metadata": {},
   "outputs": [],
   "source": [
    "N = data.num_nodes\n",
    "beta = 0.1\n",
    "gamma = 1.0\n",
    "steps = 30\n",
    "device = torch.device('cuda:0' if torch.cuda.is_available() else 'cpu')\n",
    "model = SIR(N,beta,gamma,50,steps,device).to(device)"
   ]
  },
  {
   "cell_type": "code",
   "execution_count": 38,
   "metadata": {},
   "outputs": [
    {
     "data": {
      "text/plain": [
       "tensor([1.0000, 0.0012, 0.0127,  ..., 0.0000, 0.0019, 0.0066])"
      ]
     },
     "execution_count": 38,
     "metadata": {},
     "output_type": "execute_result"
    }
   ],
   "source": [
    "individual_infection = torch.zeros(N,N)\n",
    "for i in range(N):\n",
    "    x0 = torch.zeros(N,1).to(device)\n",
    "    x0[i] = 1\n",
    "    _,x,r = model(edge_index.to(device), x0=x0)\n",
    "    individual_infection[i] = r.squeeze().cpu()\n",
    "individual_infection[0]"
   ]
  },
  {
   "cell_type": "code",
   "execution_count": 39,
   "metadata": {},
   "outputs": [],
   "source": [
    "import numpy as np\n",
    "np.save(pwd+'/for_meta/cora_individual_infection_sir.npy', individual_infection.numpy())"
   ]
  },
  {
   "cell_type": "code",
   "execution_count": 44,
   "metadata": {},
   "outputs": [
    {
     "data": {
      "text/plain": [
       "tensor([1.0000, 0.1266, 0.1348, 0.1677, 0.1160, 0.1585, 0.1143, 0.1068, 0.1130,\n",
       "        0.1010, 0.3529, 0.1123, 0.1240, 0.1070, 0.1034, 0.1343, 0.1015, 0.1175,\n",
       "        0.1462, 0.1177, 0.1450, 0.1026, 0.1027, 0.1141, 0.1021, 0.1017, 0.1160,\n",
       "        0.1141, 0.2461, 0.1719, 0.1057, 0.1346, 0.2300, 0.1094, 0.1203, 0.7944,\n",
       "        0.2071, 0.1032, 0.1076, 0.1059, 0.1518, 0.1796, 0.1084, 0.1082, 0.1121,\n",
       "        0.1160, 0.1160, 0.1198, 0.1855, 0.1183, 0.1022, 0.1183, 0.1148, 0.1055,\n",
       "        0.1284, 0.1378, 0.1377, 0.1201, 0.1112, 0.1135, 0.1040, 0.1003, 0.1008,\n",
       "        0.1010, 0.1052, 0.1904, 0.1262, 0.1329, 0.1773, 0.1132, 0.1110])"
      ]
     },
     "execution_count": 44,
     "metadata": {},
     "output_type": "execute_result"
    }
   ],
   "source": [
    "individual_infection[0][individual_infection[0] > 0.1]"
   ]
  },
  {
   "cell_type": "code",
   "execution_count": 45,
   "metadata": {},
   "outputs": [
    {
     "data": {
      "text/plain": [
       "torch.Size([2708])"
      ]
     },
     "execution_count": 45,
     "metadata": {},
     "output_type": "execute_result"
    }
   ],
   "source": [
    "individual_infection[0].size()"
   ]
  },
  {
   "cell_type": "markdown",
   "metadata": {},
   "source": [
    "5%的初始感染节点"
   ]
  },
  {
   "cell_type": "code",
   "execution_count": 84,
   "metadata": {},
   "outputs": [
    {
     "data": {
      "text/plain": [
       "135"
      ]
     },
     "execution_count": 84,
     "metadata": {},
     "output_type": "execute_result"
    }
   ],
   "source": [
    "seed_rate = 0.05\n",
    "C = int(N * seed_rate)\n",
    "C"
   ]
  },
  {
   "cell_type": "code",
   "execution_count": 88,
   "metadata": {},
   "outputs": [
    {
     "name": "stdout",
     "output_type": "stream",
     "text": [
      "[1577, 1722, 165, 1060, 2094, 1990, 1658, 1242, 1952, 1466, 2389, 894, 2067, 570, 1154, 572, 388, 2532, 1026, 2181, 2465, 601, 1270, 404, 302, 1352, 1933, 2292, 412, 1449, 1778, 1295, 2502, 2623, 837, 2263, 1953, 1813, 2135, 1066, 255, 2247, 57, 382, 1633, 2561, 4, 2506, 2021, 1364, 999, 1332, 257, 782, 2324, 908, 977, 583, 2224, 1834, 373, 329, 1310, 2080, 2004, 446, 1234, 2257, 1192, 511, 2242, 1362, 2213, 832, 2470, 2241, 2406, 1178, 1822, 375, 2442, 1576, 1298, 2357, 991, 1189, 753, 775, 764, 135, 2509, 2689, 1065, 1951, 282, 367, 533, 612, 158, 328, 2214, 1602, 2148, 1128, 2137, 964, 881, 2415, 1717, 2374, 1127, 1845, 2017, 2704, 2626, 1463, 337, 1328, 472, 1992, 2404, 2581, 1373, 779, 995, 66, 1110, 479, 903, 1523, 698, 1745, 254, 599, 896]\n"
     ]
    }
   ],
   "source": [
    "import random\n",
    "\n",
    "random.seed(0)\n",
    "\n",
    "# 从范围 0 到 2800 中随机选择 130 个数字\n",
    "random_numbers = random.sample(range(N), C)\n",
    "\n",
    "# 打印随机选择的数字\n",
    "print(random_numbers)\n"
   ]
  },
  {
   "cell_type": "code",
   "execution_count": 86,
   "metadata": {},
   "outputs": [],
   "source": [
    "sample_num = 500\n",
    "\n",
    "seeds_infections = torch.zeros(sample_num, 2, N)\n",
    "for i in range(500):\n",
    "    random.seed(i)\n",
    "    random_seeds = random.sample(range(N), C)\n",
    "    \n",
    "    x0 = torch.zeros(N,1).to(device)\n",
    "    x0[random_seeds] = 1\n",
    "    _,x,r = model(edge_index.to(device), x0=x0)\n",
    "    \n",
    "    seeds_infections[i][0] = x0.squeeze().cpu()\n",
    "    seeds_infections[i][1] = r.squeeze().cpu()\n",
    "    "
   ]
  },
  {
   "cell_type": "code",
   "execution_count": 92,
   "metadata": {},
   "outputs": [
    {
     "data": {
      "text/plain": [
       "tensor(283.4182)"
      ]
     },
     "execution_count": 92,
     "metadata": {},
     "output_type": "execute_result"
    }
   ],
   "source": [
    "seeds_infections[0][1].sum()"
   ]
  },
  {
   "cell_type": "code",
   "execution_count": 93,
   "metadata": {},
   "outputs": [],
   "source": [
    "np.save(pwd+'/for_meta/cora_seed_infection_sir.npy', seeds_infections.numpy())"
   ]
  }
 ],
 "metadata": {
  "kernelspec": {
   "display_name": "Python 3 (ipykernel)",
   "language": "python",
   "name": "python3"
  },
  "language_info": {
   "codemirror_mode": {
    "name": "ipython",
    "version": 3
   },
   "file_extension": ".py",
   "mimetype": "text/x-python",
   "name": "python",
   "nbconvert_exporter": "python",
   "pygments_lexer": "ipython3",
   "version": "3.11.7"
  }
 },
 "nbformat": 4,
 "nbformat_minor": 2
}
