{
 "cells": [
  {
   "cell_type": "code",
   "execution_count": 1,
   "metadata": {},
   "outputs": [
    {
     "data": {
      "text/plain": [
       "device(type='cuda', index=1)"
      ]
     },
     "execution_count": 1,
     "metadata": {},
     "output_type": "execute_result"
    }
   ],
   "source": [
    "import torch\n",
    "import sys\n",
    "sys.path.append('/home/zjy/project/MetaIM')\n",
    "pwd = '/home/zjy/project/MetaIM/data'\n",
    "device = torch.device('cuda:1' if torch.cuda.is_available() else 'cpu')\n",
    "device"
   ]
  },
  {
   "cell_type": "code",
   "execution_count": 2,
   "metadata": {},
   "outputs": [],
   "source": [
    "from torch_geometric.datasets import Planetoid\n",
    "\n",
    "cora_dataset = Planetoid(root=pwd+'/cora', name='cora')\n",
    "data = cora_dataset[0]\n",
    "edge_index = data.edge_index"
   ]
  },
  {
   "cell_type": "code",
   "execution_count": 3,
   "metadata": {},
   "outputs": [
    {
     "data": {
      "text/plain": [
       "((2708, 2708), (1000, 2, 2708))"
      ]
     },
     "execution_count": 3,
     "metadata": {},
     "output_type": "execute_result"
    }
   ],
   "source": [
    "import numpy as np\n",
    "individual_infection_path = pwd+'/for_meta/cora_individual_infection_sir_200.npy'\n",
    "seeds_infection_path = pwd+'/for_meta/cora_seed_infection_sir_200_sample_1000.npy'\n",
    "\n",
    "individual_infection = np.load(individual_infection_path)\n",
    "seeds_infection = np.load(seeds_infection_path)\n",
    "individual_infection.shape,seeds_infection.shape"
   ]
  },
  {
   "cell_type": "code",
   "execution_count": 4,
   "metadata": {},
   "outputs": [],
   "source": [
    "import torch\n",
    "from torch_geometric.utils import to_scipy_sparse_matrix\n",
    "import scipy.sparse as sp\n",
    "\n",
    "# 转换为 scipy 稀疏矩阵\n",
    "adj = to_scipy_sparse_matrix(edge_index)\n",
    "\n",
    "adj = torch.Tensor(adj.toarray()).to_sparse()\n",
    "adj = adj.to(device)\n"
   ]
  },
  {
   "cell_type": "code",
   "execution_count": 5,
   "metadata": {},
   "outputs": [],
   "source": [
    "seed_num = int(seeds_infection[0][0].sum())"
   ]
  },
  {
   "cell_type": "code",
   "execution_count": 6,
   "metadata": {},
   "outputs": [],
   "source": [
    "from torch.utils.data import Dataset, DataLoader, random_split\n",
    "\n",
    "\n",
    "class CustomDataset(Dataset):\n",
    "    def __init__(self, individual_infection,seeds_infection):\n",
    "        self.individual_infection = individual_infection\n",
    "        self.seeds_infection = seeds_infection\n",
    "\n",
    "    def __len__(self):\n",
    "        return len(self.seeds_infection)\n",
    "\n",
    "    def __getitem__(self, idx):\n",
    "        \n",
    "        return self.seeds_infection[idx][0], self.seeds_infection[idx][1]\n",
    "\n",
    "dataset = CustomDataset(individual_infection, seeds_infection)"
   ]
  },
  {
   "cell_type": "code",
   "execution_count": 7,
   "metadata": {},
   "outputs": [],
   "source": [
    "# 定义划分比例\n",
    "train_ratio = 0.8\n",
    "test_ratio = 0.2\n",
    "\n",
    "# 划分数据集\n",
    "train_dataset, test_dataset = random_split(dataset, [int(len(dataset)*train_ratio), int(len(dataset)*test_ratio)])\n",
    "\n",
    "train_batch_size = 32\n",
    "test_batch_size = 2\n",
    "\n",
    "# 创建数据加载器\n",
    "train_loader = DataLoader(train_dataset, batch_size=train_batch_size, shuffle=True, drop_last=False)\n",
    "test_loader = DataLoader(test_dataset, batch_size=test_batch_size, shuffle=False)"
   ]
  },
  {
   "cell_type": "markdown",
   "metadata": {},
   "source": [
    "训练VAE"
   ]
  },
  {
   "cell_type": "code",
   "execution_count": 8,
   "metadata": {},
   "outputs": [
    {
     "data": {
      "text/plain": [
       "VAEModel(\n",
       "  (Encoder): Encoder(\n",
       "    (FC_input): Linear(in_features=2708, out_features=1024, bias=True)\n",
       "    (FC_input2): Linear(in_features=1024, out_features=1024, bias=True)\n",
       "    (FC_output): Linear(in_features=1024, out_features=128, bias=True)\n",
       "    (bn): BatchNorm1d(128, eps=1e-05, momentum=0.1, affine=True, track_running_stats=True)\n",
       "  )\n",
       "  (Decoder): Decoder(\n",
       "    (FC_input): Linear(in_features=128, out_features=128, bias=True)\n",
       "    (FC_hidden_1): Linear(in_features=128, out_features=1024, bias=True)\n",
       "    (FC_hidden_2): Linear(in_features=1024, out_features=1024, bias=True)\n",
       "    (FC_output): Linear(in_features=1024, out_features=2708, bias=True)\n",
       "  )\n",
       ")"
      ]
     },
     "execution_count": 8,
     "metadata": {},
     "output_type": "execute_result"
    }
   ],
   "source": [
    "# from data import model \n",
    "from data.model.model import VAEModel, Encoder, Decoder\n",
    "from torch.optim import Adam, SGD\n",
    "import torch.nn.functional as F\n",
    "\n",
    "# # hidden_dim = 256\n",
    "# # latent_dim = 64\n",
    "hidden_dim = 1024\n",
    "latent_dim = 128\n",
    "\n",
    "encoder = Encoder(input_dim= len(seeds_infection[0][0]), \n",
    "                  hidden_dim=hidden_dim, \n",
    "                  latent_dim=latent_dim)\n",
    "\n",
    "decoder = Decoder(input_dim=latent_dim, \n",
    "                  latent_dim=latent_dim, \n",
    "                  hidden_dim=hidden_dim, \n",
    "                  output_dim=len(seeds_infection[0][0]))\n",
    "\n",
    "vae_model = VAEModel(Encoder=encoder, Decoder=decoder).to(device)\n",
    "\n",
    "optimizer_vae = Adam([{'params': vae_model.parameters()}], \n",
    "                 lr=1e-3)\n",
    "vae_model.train()"
   ]
  },
  {
   "cell_type": "code",
   "execution_count": 9,
   "metadata": {},
   "outputs": [
    {
     "name": "stdout",
     "output_type": "stream",
     "text": [
      "Epoch: 1 \tTrain_vae_loss: 5366.7296\n",
      "Epoch: 2 \tTrain_vae_loss: 3375.0000\n",
      "Epoch: 3 \tTrain_vae_loss: 3375.0000\n",
      "Epoch: 4 \tTrain_vae_loss: 3375.0000\n",
      "Epoch: 5 \tTrain_vae_loss: 3375.0000\n",
      "Epoch: 6 \tTrain_vae_loss: 3375.0000\n",
      "Epoch: 7 \tTrain_vae_loss: 3375.0000\n"
     ]
    },
    {
     "ename": "KeyboardInterrupt",
     "evalue": "",
     "output_type": "error",
     "traceback": [
      "\u001b[0;31m---------------------------------------------------------------------------\u001b[0m",
      "\u001b[0;31mKeyboardInterrupt\u001b[0m                         Traceback (most recent call last)",
      "Cell \u001b[0;32mIn[9], line 9\u001b[0m\n\u001b[1;32m      7\u001b[0m loss \u001b[38;5;241m=\u001b[39m \u001b[38;5;241m0\u001b[39m\n\u001b[1;32m      8\u001b[0m \u001b[38;5;28;01mfor\u001b[39;00m i, x_i \u001b[38;5;129;01min\u001b[39;00m \u001b[38;5;28menumerate\u001b[39m(x):\n\u001b[0;32m----> 9\u001b[0m     x_hat \u001b[38;5;241m=\u001b[39m vae_model(x_i)\n\u001b[1;32m     11\u001b[0m     \u001b[38;5;66;03m# reproduction_loss = F.binary_cross_entropy(x_hat, x_i, reduction='sum')   \u001b[39;00m\n\u001b[1;32m     12\u001b[0m     reproduction_loss \u001b[38;5;241m=\u001b[39m F\u001b[38;5;241m.\u001b[39mmse_loss(x_hat, x_i, reduction\u001b[38;5;241m=\u001b[39m\u001b[38;5;124m'\u001b[39m\u001b[38;5;124msum\u001b[39m\u001b[38;5;124m'\u001b[39m)   \n",
      "File \u001b[0;32m/cm/shared/apps/anaconda3/lib/python3.11/site-packages/torch/nn/modules/module.py:1511\u001b[0m, in \u001b[0;36mModule._wrapped_call_impl\u001b[0;34m(self, *args, **kwargs)\u001b[0m\n\u001b[1;32m   1509\u001b[0m     \u001b[38;5;28;01mreturn\u001b[39;00m \u001b[38;5;28mself\u001b[39m\u001b[38;5;241m.\u001b[39m_compiled_call_impl(\u001b[38;5;241m*\u001b[39margs, \u001b[38;5;241m*\u001b[39m\u001b[38;5;241m*\u001b[39mkwargs)  \u001b[38;5;66;03m# type: ignore[misc]\u001b[39;00m\n\u001b[1;32m   1510\u001b[0m \u001b[38;5;28;01melse\u001b[39;00m:\n\u001b[0;32m-> 1511\u001b[0m     \u001b[38;5;28;01mreturn\u001b[39;00m \u001b[38;5;28mself\u001b[39m\u001b[38;5;241m.\u001b[39m_call_impl(\u001b[38;5;241m*\u001b[39margs, \u001b[38;5;241m*\u001b[39m\u001b[38;5;241m*\u001b[39mkwargs)\n",
      "File \u001b[0;32m/cm/shared/apps/anaconda3/lib/python3.11/site-packages/torch/nn/modules/module.py:1520\u001b[0m, in \u001b[0;36mModule._call_impl\u001b[0;34m(self, *args, **kwargs)\u001b[0m\n\u001b[1;32m   1515\u001b[0m \u001b[38;5;66;03m# If we don't have any hooks, we want to skip the rest of the logic in\u001b[39;00m\n\u001b[1;32m   1516\u001b[0m \u001b[38;5;66;03m# this function, and just call forward.\u001b[39;00m\n\u001b[1;32m   1517\u001b[0m \u001b[38;5;28;01mif\u001b[39;00m \u001b[38;5;129;01mnot\u001b[39;00m (\u001b[38;5;28mself\u001b[39m\u001b[38;5;241m.\u001b[39m_backward_hooks \u001b[38;5;129;01mor\u001b[39;00m \u001b[38;5;28mself\u001b[39m\u001b[38;5;241m.\u001b[39m_backward_pre_hooks \u001b[38;5;129;01mor\u001b[39;00m \u001b[38;5;28mself\u001b[39m\u001b[38;5;241m.\u001b[39m_forward_hooks \u001b[38;5;129;01mor\u001b[39;00m \u001b[38;5;28mself\u001b[39m\u001b[38;5;241m.\u001b[39m_forward_pre_hooks\n\u001b[1;32m   1518\u001b[0m         \u001b[38;5;129;01mor\u001b[39;00m _global_backward_pre_hooks \u001b[38;5;129;01mor\u001b[39;00m _global_backward_hooks\n\u001b[1;32m   1519\u001b[0m         \u001b[38;5;129;01mor\u001b[39;00m _global_forward_hooks \u001b[38;5;129;01mor\u001b[39;00m _global_forward_pre_hooks):\n\u001b[0;32m-> 1520\u001b[0m     \u001b[38;5;28;01mreturn\u001b[39;00m forward_call(\u001b[38;5;241m*\u001b[39margs, \u001b[38;5;241m*\u001b[39m\u001b[38;5;241m*\u001b[39mkwargs)\n\u001b[1;32m   1522\u001b[0m \u001b[38;5;28;01mtry\u001b[39;00m:\n\u001b[1;32m   1523\u001b[0m     result \u001b[38;5;241m=\u001b[39m \u001b[38;5;28;01mNone\u001b[39;00m\n",
      "File \u001b[0;32m~/project/MetaIM/data/model/model.py:211\u001b[0m, in \u001b[0;36mVAEModel.forward\u001b[0;34m(self, x, adj)\u001b[0m\n\u001b[1;32m    209\u001b[0m     z \u001b[38;5;241m=\u001b[39m \u001b[38;5;28mself\u001b[39m\u001b[38;5;241m.\u001b[39mEncoder(x, adj)\n\u001b[1;32m    210\u001b[0m \u001b[38;5;28;01melse\u001b[39;00m:\n\u001b[0;32m--> 211\u001b[0m     z \u001b[38;5;241m=\u001b[39m \u001b[38;5;28mself\u001b[39m\u001b[38;5;241m.\u001b[39mEncoder(x)\n\u001b[1;32m    212\u001b[0m \u001b[38;5;66;03m# z = mean + log_var # takes exponential function (log var -> var)\u001b[39;00m\n\u001b[1;32m    213\u001b[0m x_hat \u001b[38;5;241m=\u001b[39m \u001b[38;5;28mself\u001b[39m\u001b[38;5;241m.\u001b[39mDecoder(z)\n",
      "File \u001b[0;32m/cm/shared/apps/anaconda3/lib/python3.11/site-packages/torch/nn/modules/module.py:1511\u001b[0m, in \u001b[0;36mModule._wrapped_call_impl\u001b[0;34m(self, *args, **kwargs)\u001b[0m\n\u001b[1;32m   1509\u001b[0m     \u001b[38;5;28;01mreturn\u001b[39;00m \u001b[38;5;28mself\u001b[39m\u001b[38;5;241m.\u001b[39m_compiled_call_impl(\u001b[38;5;241m*\u001b[39margs, \u001b[38;5;241m*\u001b[39m\u001b[38;5;241m*\u001b[39mkwargs)  \u001b[38;5;66;03m# type: ignore[misc]\u001b[39;00m\n\u001b[1;32m   1510\u001b[0m \u001b[38;5;28;01melse\u001b[39;00m:\n\u001b[0;32m-> 1511\u001b[0m     \u001b[38;5;28;01mreturn\u001b[39;00m \u001b[38;5;28mself\u001b[39m\u001b[38;5;241m.\u001b[39m_call_impl(\u001b[38;5;241m*\u001b[39margs, \u001b[38;5;241m*\u001b[39m\u001b[38;5;241m*\u001b[39mkwargs)\n",
      "File \u001b[0;32m/cm/shared/apps/anaconda3/lib/python3.11/site-packages/torch/nn/modules/module.py:1520\u001b[0m, in \u001b[0;36mModule._call_impl\u001b[0;34m(self, *args, **kwargs)\u001b[0m\n\u001b[1;32m   1515\u001b[0m \u001b[38;5;66;03m# If we don't have any hooks, we want to skip the rest of the logic in\u001b[39;00m\n\u001b[1;32m   1516\u001b[0m \u001b[38;5;66;03m# this function, and just call forward.\u001b[39;00m\n\u001b[1;32m   1517\u001b[0m \u001b[38;5;28;01mif\u001b[39;00m \u001b[38;5;129;01mnot\u001b[39;00m (\u001b[38;5;28mself\u001b[39m\u001b[38;5;241m.\u001b[39m_backward_hooks \u001b[38;5;129;01mor\u001b[39;00m \u001b[38;5;28mself\u001b[39m\u001b[38;5;241m.\u001b[39m_backward_pre_hooks \u001b[38;5;129;01mor\u001b[39;00m \u001b[38;5;28mself\u001b[39m\u001b[38;5;241m.\u001b[39m_forward_hooks \u001b[38;5;129;01mor\u001b[39;00m \u001b[38;5;28mself\u001b[39m\u001b[38;5;241m.\u001b[39m_forward_pre_hooks\n\u001b[1;32m   1518\u001b[0m         \u001b[38;5;129;01mor\u001b[39;00m _global_backward_pre_hooks \u001b[38;5;129;01mor\u001b[39;00m _global_backward_hooks\n\u001b[1;32m   1519\u001b[0m         \u001b[38;5;129;01mor\u001b[39;00m _global_forward_hooks \u001b[38;5;129;01mor\u001b[39;00m _global_forward_pre_hooks):\n\u001b[0;32m-> 1520\u001b[0m     \u001b[38;5;28;01mreturn\u001b[39;00m forward_call(\u001b[38;5;241m*\u001b[39margs, \u001b[38;5;241m*\u001b[39m\u001b[38;5;241m*\u001b[39mkwargs)\n\u001b[1;32m   1522\u001b[0m \u001b[38;5;28;01mtry\u001b[39;00m:\n\u001b[1;32m   1523\u001b[0m     result \u001b[38;5;241m=\u001b[39m \u001b[38;5;28;01mNone\u001b[39;00m\n",
      "File \u001b[0;32m~/project/MetaIM/data/model/model.py:78\u001b[0m, in \u001b[0;36mEncoder.forward\u001b[0;34m(self, x)\u001b[0m\n\u001b[1;32m     76\u001b[0m \u001b[38;5;28;01mdef\u001b[39;00m \u001b[38;5;21mforward\u001b[39m(\u001b[38;5;28mself\u001b[39m, x):\n\u001b[1;32m     77\u001b[0m     h_ \u001b[38;5;241m=\u001b[39m F\u001b[38;5;241m.\u001b[39mrelu(\u001b[38;5;28mself\u001b[39m\u001b[38;5;241m.\u001b[39mFC_input(x))\n\u001b[0;32m---> 78\u001b[0m     h_ \u001b[38;5;241m=\u001b[39m F\u001b[38;5;241m.\u001b[39mrelu(\u001b[38;5;28mself\u001b[39m\u001b[38;5;241m.\u001b[39mFC_input2(h_))\n\u001b[1;32m     79\u001b[0m     h_ \u001b[38;5;241m=\u001b[39m F\u001b[38;5;241m.\u001b[39mrelu(\u001b[38;5;28mself\u001b[39m\u001b[38;5;241m.\u001b[39mFC_input2(h_))\n\u001b[1;32m     80\u001b[0m     output \u001b[38;5;241m=\u001b[39m \u001b[38;5;28mself\u001b[39m\u001b[38;5;241m.\u001b[39mFC_output(h_)\n",
      "File \u001b[0;32m/cm/shared/apps/anaconda3/lib/python3.11/site-packages/torch/nn/modules/module.py:1511\u001b[0m, in \u001b[0;36mModule._wrapped_call_impl\u001b[0;34m(self, *args, **kwargs)\u001b[0m\n\u001b[1;32m   1509\u001b[0m     \u001b[38;5;28;01mreturn\u001b[39;00m \u001b[38;5;28mself\u001b[39m\u001b[38;5;241m.\u001b[39m_compiled_call_impl(\u001b[38;5;241m*\u001b[39margs, \u001b[38;5;241m*\u001b[39m\u001b[38;5;241m*\u001b[39mkwargs)  \u001b[38;5;66;03m# type: ignore[misc]\u001b[39;00m\n\u001b[1;32m   1510\u001b[0m \u001b[38;5;28;01melse\u001b[39;00m:\n\u001b[0;32m-> 1511\u001b[0m     \u001b[38;5;28;01mreturn\u001b[39;00m \u001b[38;5;28mself\u001b[39m\u001b[38;5;241m.\u001b[39m_call_impl(\u001b[38;5;241m*\u001b[39margs, \u001b[38;5;241m*\u001b[39m\u001b[38;5;241m*\u001b[39mkwargs)\n",
      "File \u001b[0;32m/cm/shared/apps/anaconda3/lib/python3.11/site-packages/torch/nn/modules/module.py:1520\u001b[0m, in \u001b[0;36mModule._call_impl\u001b[0;34m(self, *args, **kwargs)\u001b[0m\n\u001b[1;32m   1515\u001b[0m \u001b[38;5;66;03m# If we don't have any hooks, we want to skip the rest of the logic in\u001b[39;00m\n\u001b[1;32m   1516\u001b[0m \u001b[38;5;66;03m# this function, and just call forward.\u001b[39;00m\n\u001b[1;32m   1517\u001b[0m \u001b[38;5;28;01mif\u001b[39;00m \u001b[38;5;129;01mnot\u001b[39;00m (\u001b[38;5;28mself\u001b[39m\u001b[38;5;241m.\u001b[39m_backward_hooks \u001b[38;5;129;01mor\u001b[39;00m \u001b[38;5;28mself\u001b[39m\u001b[38;5;241m.\u001b[39m_backward_pre_hooks \u001b[38;5;129;01mor\u001b[39;00m \u001b[38;5;28mself\u001b[39m\u001b[38;5;241m.\u001b[39m_forward_hooks \u001b[38;5;129;01mor\u001b[39;00m \u001b[38;5;28mself\u001b[39m\u001b[38;5;241m.\u001b[39m_forward_pre_hooks\n\u001b[1;32m   1518\u001b[0m         \u001b[38;5;129;01mor\u001b[39;00m _global_backward_pre_hooks \u001b[38;5;129;01mor\u001b[39;00m _global_backward_hooks\n\u001b[1;32m   1519\u001b[0m         \u001b[38;5;129;01mor\u001b[39;00m _global_forward_hooks \u001b[38;5;129;01mor\u001b[39;00m _global_forward_pre_hooks):\n\u001b[0;32m-> 1520\u001b[0m     \u001b[38;5;28;01mreturn\u001b[39;00m forward_call(\u001b[38;5;241m*\u001b[39margs, \u001b[38;5;241m*\u001b[39m\u001b[38;5;241m*\u001b[39mkwargs)\n\u001b[1;32m   1522\u001b[0m \u001b[38;5;28;01mtry\u001b[39;00m:\n\u001b[1;32m   1523\u001b[0m     result \u001b[38;5;241m=\u001b[39m \u001b[38;5;28;01mNone\u001b[39;00m\n",
      "File \u001b[0;32m/cm/shared/apps/anaconda3/lib/python3.11/site-packages/torch/nn/modules/linear.py:116\u001b[0m, in \u001b[0;36mLinear.forward\u001b[0;34m(self, input)\u001b[0m\n\u001b[1;32m    115\u001b[0m \u001b[38;5;28;01mdef\u001b[39;00m \u001b[38;5;21mforward\u001b[39m(\u001b[38;5;28mself\u001b[39m, \u001b[38;5;28minput\u001b[39m: Tensor) \u001b[38;5;241m-\u001b[39m\u001b[38;5;241m>\u001b[39m Tensor:\n\u001b[0;32m--> 116\u001b[0m     \u001b[38;5;28;01mreturn\u001b[39;00m F\u001b[38;5;241m.\u001b[39mlinear(\u001b[38;5;28minput\u001b[39m, \u001b[38;5;28mself\u001b[39m\u001b[38;5;241m.\u001b[39mweight, \u001b[38;5;28mself\u001b[39m\u001b[38;5;241m.\u001b[39mbias)\n",
      "\u001b[0;31mKeyboardInterrupt\u001b[0m: "
     ]
    }
   ],
   "source": [
    "for epoch in range(200):\n",
    "    train_vae_loss = 0\n",
    "    mean_train_accuracy = 0\n",
    "    for batch_idx, seeds_label in enumerate(train_loader):        \n",
    "        x = seeds_label[0].to(device)\n",
    "        optimizer_vae.zero_grad()\n",
    "        loss = 0\n",
    "        for i, x_i in enumerate(x):\n",
    "            x_hat = vae_model(x_i)\n",
    "\n",
    "            # reproduction_loss = F.binary_cross_entropy(x_hat, x_i, reduction='sum')   \n",
    "            reproduction_loss = F.mse_loss(x_hat, x_i, reduction='sum')   \n",
    "            loss += reproduction_loss    \n",
    "        train_vae_loss += loss.item()\n",
    "        loss = loss/x.size(0)\n",
    "        loss.backward()\n",
    "        optimizer_vae.step()\n",
    "        \n",
    "    print(\"Epoch: {}\".format(epoch+1), \n",
    "        \"\\tTrain_vae_loss: {:.4f}\".format(train_vae_loss / train_batch_size),\n",
    "        )\n"
   ]
  },
  {
   "cell_type": "code",
   "execution_count": null,
   "metadata": {},
   "outputs": [],
   "source": [
    "import torch\n",
    "import torch.nn as nn\n",
    "\n",
    "from torch_geometric.nn import GATConv\n",
    "from torch.optim import Adam, SGD\n",
    "import torch.nn.functional as F\n",
    "\n",
    "class GAT(nn.Module):\n",
    "    def __init__(self, seeds_dim, inflect_dim, hidden_channels, out_channels, num_heads):\n",
    "        super(GAT, self).__init__()\n",
    "        self.linear1 = nn.Linear(inflect_dim, 2 * inflect_dim)\n",
    "        self.bn1 = nn.BatchNorm1d(2 * inflect_dim)\n",
    "        self.conv1 = GATConv(2 * inflect_dim, hidden_channels, heads=num_heads)\n",
    "        self.bn2 = nn.BatchNorm1d(hidden_channels * num_heads)\n",
    "        self.conv2 = GATConv(hidden_channels * num_heads, hidden_channels * num_heads, heads=1)\n",
    "        self.bn3 = nn.BatchNorm1d(seeds_dim)\n",
    "        self.linear2 = nn.Linear(hidden_channels * num_heads + seeds_dim, out_channels)\n",
    "\n",
    "    def forward(self, seeds_i, inflect_i, edge_index):\n",
    "        x =  torch.cat((seeds_i, inflect_i), dim=-1)\n",
    "        x = self.linear1(x)\n",
    "        x = self.bn1(x)\n",
    "        x = self.conv1(x, edge_index)\n",
    "        x = F.relu(x)\n",
    "        x = self.bn2(x)\n",
    "        x = F.dropout(x, p=0.2, training=self.training)\n",
    "        x = self.conv2(x, edge_index)\n",
    "        x = F.relu(x)\n",
    "        inflect_i = self.bn3(inflect_i)\n",
    "        x =  torch.cat((x, inflect_i), dim=-1)\n",
    "        x = self.linear2(x)\n",
    "        return F.relu(x)"
   ]
  },
  {
   "cell_type": "code",
   "execution_count": null,
   "metadata": {},
   "outputs": [
    {
     "data": {
      "text/plain": [
       "GAT(\n",
       "  (linear1): Linear(in_features=256, out_features=256, bias=True)\n",
       "  (bn1): BatchNorm1d(256, eps=1e-05, momentum=0.1, affine=True, track_running_stats=True)\n",
       "  (conv1): GATConv(256, 512, heads=4)\n",
       "  (bn2): BatchNorm1d(2048, eps=1e-05, momentum=0.1, affine=True, track_running_stats=True)\n",
       "  (conv2): GATConv(2048, 2048, heads=1)\n",
       "  (bn3): BatchNorm1d(128, eps=1e-05, momentum=0.1, affine=True, track_running_stats=True)\n",
       "  (linear2): Linear(in_features=2176, out_features=1, bias=True)\n",
       ")"
      ]
     },
     "execution_count": 14,
     "metadata": {},
     "output_type": "execute_result"
    }
   ],
   "source": [
    "inflect_dim = latent_dim\n",
    "seeds_dim = latent_dim\n",
    "\n",
    "forward_model = GAT(seeds_dim,inflect_dim, 512, 1, 4)\n",
    "\n",
    "optimizer = Adam([{'params': forward_model.parameters()}], \n",
    "                 lr=0.0001)\n",
    "\n",
    "adj = adj.to(device)\n",
    "forward_model = forward_model.to(device)\n",
    "forward_model.train()"
   ]
  },
  {
   "cell_type": "code",
   "execution_count": null,
   "metadata": {},
   "outputs": [],
   "source": [
    "for param in vae_model.parameters():\n",
    "    param.requires_grad = False \n",
    "encoder = vae_model.Encoder"
   ]
  },
  {
   "cell_type": "code",
   "execution_count": null,
   "metadata": {},
   "outputs": [
    {
     "data": {
      "text/plain": [
       "tensor([[-0.9710, -0.7823, -0.2452,  ...,  0.5213, -0.9167, -0.8045],\n",
       "        [-0.8909, -0.7296, -0.1646,  ...,  0.3429, -0.9508, -1.1218],\n",
       "        [ 2.6712, -0.5249,  0.6462,  ...,  0.2255, -2.4219,  0.3254],\n",
       "        ...,\n",
       "        [-0.9943, -1.0166, -0.1454,  ...,  0.3835, -0.4427, -0.2174],\n",
       "        [-0.2526, -0.8913,  0.0411,  ...,  0.2163, -0.9409, -0.1455],\n",
       "        [ 0.8175, -1.1660,  0.1499,  ...,  0.2104, -1.7778,  0.3199]],\n",
       "       device='cuda:1')"
      ]
     },
     "execution_count": 16,
     "metadata": {},
     "output_type": "execute_result"
    }
   ],
   "source": [
    "inflected = torch.tensor(individual_infection).T.to(device)\n",
    "encode_inflected = torch.zeros(inflected.shape[0], latent_dim)\n",
    "for i in range(inflected.shape[0]):\n",
    "    encode_inflected_i  = encoder(inflected[i])\n",
    "    encode_inflected[i] = encode_inflected_i\n",
    "encode_inflected = encode_inflected.detach().to(device)\n",
    "encode_inflected"
   ]
  },
  {
   "cell_type": "code",
   "execution_count": null,
   "metadata": {},
   "outputs": [
    {
     "name": "stdout",
     "output_type": "stream",
     "text": [
      "Epoch: 1 \tTotal: 355.9025 \tMean_train_accuracy: 0.5877\n",
      "\tMean_test_accuracy: 0.5870\n",
      "Epoch: 2 \tTotal: 355.2913 \tMean_train_accuracy: 0.5883\n",
      "\tMean_test_accuracy: 0.5873\n",
      "Epoch: 3 \tTotal: 355.2350 \tMean_train_accuracy: 0.5887\n",
      "\tMean_test_accuracy: 0.5885\n",
      "Epoch: 4 \tTotal: 355.6880 \tMean_train_accuracy: 0.5873\n",
      "\tMean_test_accuracy: 0.5878\n",
      "Epoch: 5 \tTotal: 355.7954 \tMean_train_accuracy: 0.5882\n",
      "\tMean_test_accuracy: 0.5876\n",
      "Epoch: 6 \tTotal: 355.6053 \tMean_train_accuracy: 0.5882\n",
      "\tMean_test_accuracy: 0.5873\n",
      "Epoch: 7 \tTotal: 355.2493 \tMean_train_accuracy: 0.5881\n",
      "\tMean_test_accuracy: 0.5845\n",
      "Epoch: 8 \tTotal: 355.5707 \tMean_train_accuracy: 0.5880\n",
      "\tMean_test_accuracy: 0.5889\n",
      "Epoch: 9 \tTotal: 355.4074 \tMean_train_accuracy: 0.5882\n",
      "\tMean_test_accuracy: 0.5857\n",
      "Epoch: 10 \tTotal: 355.5667 \tMean_train_accuracy: 0.5883\n",
      "\tMean_test_accuracy: 0.5864\n",
      "Epoch: 11 \tTotal: 355.2705 \tMean_train_accuracy: 0.5886\n",
      "\tMean_test_accuracy: 0.5872\n",
      "Epoch: 12 \tTotal: 355.9001 \tMean_train_accuracy: 0.5878\n",
      "\tMean_test_accuracy: 0.5845\n",
      "Epoch: 13 \tTotal: 357.4146 \tMean_train_accuracy: 0.5851\n",
      "\tMean_test_accuracy: 0.5878\n",
      "Epoch: 14 \tTotal: 355.3110 \tMean_train_accuracy: 0.5890\n",
      "\tMean_test_accuracy: 0.5877\n",
      "Epoch: 15 \tTotal: 355.1408 \tMean_train_accuracy: 0.5889\n",
      "\tMean_test_accuracy: 0.5841\n",
      "Epoch: 16 \tTotal: 355.9829 \tMean_train_accuracy: 0.5879\n",
      "\tMean_test_accuracy: 0.5868\n",
      "Epoch: 17 \tTotal: 355.3281 \tMean_train_accuracy: 0.5884\n",
      "\tMean_test_accuracy: 0.5874\n",
      "Epoch: 18 \tTotal: 355.4771 \tMean_train_accuracy: 0.5880\n",
      "\tMean_test_accuracy: 0.5877\n",
      "Epoch: 19 \tTotal: 355.2289 \tMean_train_accuracy: 0.5881\n",
      "\tMean_test_accuracy: 0.5881\n",
      "Epoch: 20 \tTotal: 355.4545 \tMean_train_accuracy: 0.5886\n",
      "\tMean_test_accuracy: 0.5854\n",
      "Epoch: 21 \tTotal: 355.5982 \tMean_train_accuracy: 0.5879\n",
      "\tMean_test_accuracy: 0.5868\n"
     ]
    }
   ],
   "source": [
    "edge_index = edge_index.to(device)\n",
    "top_num = 500\n",
    "\n",
    "\n",
    "for epoch in range(2000):\n",
    "\n",
    "    total_loss = 0\n",
    "    \n",
    "\n",
    "    total_train_accuracy = 0\n",
    "    \n",
    "    count_train = 0\n",
    "    for batch_idx, seeds_label in enumerate(train_loader): \n",
    "        count_train += 1\n",
    "        forward_loss = 0 \n",
    "        seeds =  seeds_label[0].to(device)     \n",
    "        labels = seeds_label[1].to(device)\n",
    "        optimizer.zero_grad()\n",
    "        \n",
    "        loss = 0\n",
    "        train_accuracy = 0\n",
    "        for i, seeds_i in enumerate(seeds):\n",
    "            \n",
    "\n",
    "            \n",
    "            seeds_i = encoder(seeds_i).detach()\n",
    "            seeds_i = seeds_i.expand(seeds.shape[1], -1)\n",
    "            \n",
    "            y_i = labels[i]\n",
    "            y_hat = forward_model(seeds_i, encode_inflected, edge_index)\n",
    "            \n",
    "            \n",
    "            \n",
    "            _, top_indices_true = torch.topk(y_i.clone(), top_num)\n",
    "            label_2 = torch.zeros(y_i.shape).to(device)\n",
    "            label_2[top_indices_true] = 1\n",
    "            \n",
    "            _, top_indices_predict = torch.topk(y_hat.clone().squeeze(-1), top_num)\n",
    "            \n",
    "            # 将张量数组转换为Python列表\n",
    "            list1 = top_indices_true.tolist()\n",
    "            list_pre = top_indices_predict.tolist()\n",
    "\n",
    "            # 使用集合操作找到交集\n",
    "            intersection = list(set(list1) & set(list_pre))\n",
    "            accuracy_i = len(intersection) / top_num       \n",
    "            train_accuracy += accuracy_i \n",
    "\n",
    "            forward_loss = 0.5*F.mse_loss(y_hat.squeeze(-1), y_i, reduction='sum') + F.mse_loss(y_hat.squeeze(-1), label_2, reduction='sum')    \n",
    "            loss += forward_loss    \n",
    "        \n",
    "           \n",
    "        train_accuracy /= seeds.size(0)\n",
    "        total_train_accuracy += train_accuracy\n",
    "        loss = loss/seeds.size(0)\n",
    "        total_loss += loss.item() \n",
    "        loss.backward()\n",
    "        optimizer.step()\n",
    "        # for p in forward_model.parameters():\n",
    "        #     p.data.clamp_(min=0)\n",
    "        \n",
    "\n",
    "    print(\"Epoch: {}\".format(epoch+1), \n",
    "        \"\\tTotal: {:.4f}\".format(total_loss / count_train),\n",
    "        \"\\tMean_train_accuracy: {:.4f}\".format(total_train_accuracy/ count_train),\n",
    "        )  \n",
    "    \n",
    "    total_test_accuracy = 0\n",
    "    \n",
    "    count_test = 0\n",
    "\n",
    "    for batch_idx, seeds_label in enumerate(test_loader): \n",
    "        count_test += 1 \n",
    "        seeds =  seeds_label[0].to(device)     \n",
    "        labels = seeds_label[1].to(device)\n",
    "        test_accuracy = 0\n",
    "        for i, seeds_i in enumerate(seeds):\n",
    "            seeds_i = encoder(seeds_i).detach()\n",
    "            seeds_i = seeds_i.expand(seeds.shape[1], -1)\n",
    "            \n",
    "            y_i = labels[i]\n",
    "            \n",
    "            y_hat = forward_model(seeds_i, encode_inflected, edge_index)\n",
    "            \n",
    "            _, top_indices_true = torch.topk(y_i, top_num)\n",
    "            \n",
    "            \n",
    "            _, top_indices_predict = torch.topk(y_hat.squeeze(-1), top_num)\n",
    "\n",
    "            \n",
    "            # 将张量数组转换为Python列表\n",
    "            list1 = top_indices_true.tolist()\n",
    "            list_pre = top_indices_predict.tolist()\n",
    "            \n",
    "\n",
    "            # 使用集合操作找到交集\n",
    "            intersection = list(set(list1) & set(list_pre))\n",
    "\n",
    "            \n",
    "            accuracy_i = len(intersection) / top_num       \n",
    "            test_accuracy += accuracy_i \n",
    "        test_accuracy /= len(seeds)\n",
    "        total_test_accuracy += test_accuracy\n",
    "        \n",
    "\n",
    "    print(\n",
    "        \"\\tMean_test_accuracy: {:.4f}\".format(total_test_accuracy / count_test),\n",
    "        )  \n",
    "\n",
    "    "
   ]
  }
 ],
 "metadata": {
  "kernelspec": {
   "display_name": "Python 3 (ipykernel)",
   "language": "python",
   "name": "python3"
  },
  "language_info": {
   "codemirror_mode": {
    "name": "ipython",
    "version": 3
   },
   "file_extension": ".py",
   "mimetype": "text/x-python",
   "name": "python",
   "nbconvert_exporter": "python",
   "pygments_lexer": "ipython3",
   "version": "3.11.7"
  }
 },
 "nbformat": 4,
 "nbformat_minor": 2
}
